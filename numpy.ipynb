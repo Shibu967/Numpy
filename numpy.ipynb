{
 "cells": [
  {
   "cell_type": "markdown",
   "id": "d62603e1",
   "metadata": {},
   "source": [
    "import numpy as np\n",
    "\n",
    "arr = np.array([1, 2, 3, 4, 5])\n",
    "\n",
    "print(arr)"
   ]
  },
  {
   "cell_type": "code",
   "execution_count": 1,
   "id": "82452d71",
   "metadata": {},
   "outputs": [
    {
     "name": "stdout",
     "output_type": "stream",
     "text": [
      "[1 2 3 4 5]\n"
     ]
    }
   ],
   "source": [
    "#Use a tuple to create a NumPy array:\n",
    "\n",
    "import numpy as np\n",
    "\n",
    "arr = np.array((1, 2, 3, 4, 5))\n",
    "\n",
    "print(arr)"
   ]
  },
  {
   "cell_type": "code",
   "execution_count": 2,
   "id": "77e63623",
   "metadata": {},
   "outputs": [
    {
     "name": "stdout",
     "output_type": "stream",
     "text": [
      "42\n"
     ]
    }
   ],
   "source": [
    "#Create a 0-D array with value 42\n",
    "\n",
    "import numpy as np\n",
    "\n",
    "arr = np.array(42)\n",
    "\n",
    "print(arr)"
   ]
  },
  {
   "cell_type": "code",
   "execution_count": 3,
   "id": "27f858ab",
   "metadata": {},
   "outputs": [
    {
     "name": "stdout",
     "output_type": "stream",
     "text": [
      "[1 2 3 4 5]\n"
     ]
    }
   ],
   "source": [
    "#Create a 1-D array containing the values 1,2,3,4,5:\n",
    "\n",
    "import numpy as np\n",
    "\n",
    "arr = np.array([1, 2, 3, 4, 5])\n",
    "\n",
    "print(arr)"
   ]
  },
  {
   "cell_type": "code",
   "execution_count": 4,
   "id": "08db87ad",
   "metadata": {},
   "outputs": [
    {
     "name": "stdout",
     "output_type": "stream",
     "text": [
      "[[1 2 3]\n",
      " [4 5 6]]\n"
     ]
    }
   ],
   "source": [
    "#Create a 2-D array containing two arrays with the values 1,2,3 and 4,5,6:\n",
    "\n",
    "import numpy as np\n",
    "\n",
    "arr = np.array([[1, 2, 3], [4, 5, 6]])\n",
    "\n",
    "print(arr)"
   ]
  },
  {
   "cell_type": "code",
   "execution_count": 5,
   "id": "fe04a510",
   "metadata": {},
   "outputs": [
    {
     "name": "stdout",
     "output_type": "stream",
     "text": [
      "[[[1 2 3]\n",
      "  [4 5 6]]\n",
      "\n",
      " [[1 2 3]\n",
      "  [4 5 6]]]\n"
     ]
    }
   ],
   "source": [
    "#Create a 3-D array with two 2-D arrays, both containing two arrays with the values 1,2,3 and 4,5,6:\n",
    "\n",
    "import numpy as np\n",
    "\n",
    "arr = np.array([[[1, 2, 3], [4, 5, 6]], [[1, 2, 3], [4, 5, 6]]])\n",
    "\n",
    "print(arr)"
   ]
  },
  {
   "cell_type": "code",
   "execution_count": 6,
   "id": "ef72205d",
   "metadata": {},
   "outputs": [
    {
     "name": "stdout",
     "output_type": "stream",
     "text": [
      "0\n",
      "1\n",
      "2\n",
      "3\n"
     ]
    }
   ],
   "source": [
    "#Check how many dimensions the arrays have:\n",
    "\n",
    "import numpy as np\n",
    "\n",
    "a = np.array(42)\n",
    "b = np.array([1, 2, 3, 4, 5])\n",
    "c = np.array([[1, 2, 3], [4, 5, 6]])\n",
    "d = np.array([[[1, 2, 3], [4, 5, 6]], [[1, 2, 3], [4, 5, 6]]])\n",
    "\n",
    "print(a.ndim)\n",
    "print(b.ndim)\n",
    "print(c.ndim)\n",
    "print(d.ndim)"
   ]
  },
  {
   "cell_type": "markdown",
   "id": "3f88fa72",
   "metadata": {},
   "source": [
    "# Numpy Array indexing"
   ]
  },
  {
   "cell_type": "code",
   "execution_count": 7,
   "id": "b1cdf0a1",
   "metadata": {},
   "outputs": [
    {
     "name": "stdout",
     "output_type": "stream",
     "text": [
      "1\n"
     ]
    }
   ],
   "source": [
    "#Get the first element from the following array:\n",
    "\n",
    "import numpy as np\n",
    "\n",
    "arr = np.array([1, 2, 3, 4])\n",
    "\n",
    "print(arr[0])"
   ]
  },
  {
   "cell_type": "code",
   "execution_count": 8,
   "id": "619cc7c0",
   "metadata": {},
   "outputs": [
    {
     "name": "stdout",
     "output_type": "stream",
     "text": [
      "2\n"
     ]
    }
   ],
   "source": [
    "#Get the second element from the following array.\n",
    "\n",
    "import numpy as np\n",
    "\n",
    "arr = np.array([1, 2, 3, 4])\n",
    "\n",
    "print(arr[1])"
   ]
  },
  {
   "cell_type": "code",
   "execution_count": 9,
   "id": "5b7af8b1",
   "metadata": {},
   "outputs": [
    {
     "name": "stdout",
     "output_type": "stream",
     "text": [
      "7\n"
     ]
    }
   ],
   "source": [
    "#Get third and fourth elements from the following array and add them.\n",
    "\n",
    "import numpy as np\n",
    "\n",
    "arr = np.array([1, 2, 3, 4])\n",
    "\n",
    "print(arr[2] + arr[3])\n"
   ]
  },
  {
   "cell_type": "code",
   "execution_count": 10,
   "id": "97eaed49",
   "metadata": {},
   "outputs": [
    {
     "name": "stdout",
     "output_type": "stream",
     "text": [
      "2nd element on 1st row:  2\n"
     ]
    }
   ],
   "source": [
    "#Access the element on the first row, second column:\n",
    "\n",
    "import numpy as np\n",
    "\n",
    "arr = np.array([[1,2,3,4,5], [6,7,8,9,10]])\n",
    "\n",
    "print('2nd element on 1st row: ', arr[0, 1])\n"
   ]
  },
  {
   "cell_type": "code",
   "execution_count": 11,
   "id": "6b71ee0d",
   "metadata": {},
   "outputs": [
    {
     "name": "stdout",
     "output_type": "stream",
     "text": [
      "5th element on 2nd row:  10\n"
     ]
    }
   ],
   "source": [
    "#Access the element on the 2nd row, 5th column:\n",
    "\n",
    "import numpy as np\n",
    "\n",
    "arr = np.array([[1,2,3,4,5], [6,7,8,9,10]])\n",
    "\n",
    "print('5th element on 2nd row: ', arr[1, 4])\n"
   ]
  },
  {
   "cell_type": "code",
   "execution_count": 12,
   "id": "1485ebbb",
   "metadata": {},
   "outputs": [
    {
     "name": "stdout",
     "output_type": "stream",
     "text": [
      "6\n"
     ]
    }
   ],
   "source": [
    "#Access the third element of the second array of the first array:\n",
    "\n",
    "import numpy as np\n",
    "\n",
    "arr = np.array([[[1, 2, 3], [4, 5, 6]], [[7, 8, 9], [10, 11, 12]]])\n",
    "\n",
    "print(arr[0, 1, 2])"
   ]
  },
  {
   "cell_type": "code",
   "execution_count": 13,
   "id": "a0e33003",
   "metadata": {},
   "outputs": [
    {
     "name": "stdout",
     "output_type": "stream",
     "text": [
      "[[[ 1  2  3]\n",
      "  [ 4  5  6]]\n",
      "\n",
      " [[ 7  8  9]\n",
      "  [10 11 12]]]\n"
     ]
    }
   ],
   "source": [
    "#Access the third element of the second array of the first array:\n",
    "\n",
    "import numpy as np\n",
    "\n",
    "arr = np.array([[[1, 2, 3], [4, 5, 6]], [[7, 8, 9], [10, 11, 12]]])\n",
    "\n",
    "print(arr)"
   ]
  },
  {
   "cell_type": "code",
   "execution_count": 14,
   "id": "23f08e15",
   "metadata": {},
   "outputs": [
    {
     "name": "stdout",
     "output_type": "stream",
     "text": [
      "12\n"
     ]
    }
   ],
   "source": [
    "#Access the third element of the second array of the first array:\n",
    "\n",
    "import numpy as np\n",
    "\n",
    "arr = np.array([[[1, 2, 3], [4, 5, 6]], [[7, 8, 9], [10, 11, 12]]])\n",
    "\n",
    "print(arr[1, 1, 2])"
   ]
  },
  {
   "cell_type": "code",
   "execution_count": 15,
   "id": "fc4f46f2",
   "metadata": {},
   "outputs": [
    {
     "name": "stdout",
     "output_type": "stream",
     "text": [
      "Last element from 2nd dim:  10\n"
     ]
    }
   ],
   "source": [
    "#Print the last element from the 2nd dim:\n",
    "\n",
    "import numpy as np\n",
    "\n",
    "arr = np.array([[1,2,3,4,5], [6,7,8,9,10]])\n",
    "\n",
    "print('Last element from 2nd dim: ', arr[1, -1])\n"
   ]
  },
  {
   "cell_type": "markdown",
   "id": "d4838258",
   "metadata": {},
   "source": [
    " # Slicing"
   ]
  },
  {
   "cell_type": "code",
   "execution_count": 16,
   "id": "7fbcc9fc",
   "metadata": {},
   "outputs": [
    {
     "name": "stdout",
     "output_type": "stream",
     "text": [
      "[2 3 4 5]\n"
     ]
    }
   ],
   "source": [
    "#Slice elements from index 1 to index 5 from the following array:\n",
    "\n",
    "import numpy as np\n",
    "\n",
    "arr = np.array([1, 2, 3, 4, 5, 6, 7])\n",
    "\n",
    "print(arr[1:5])"
   ]
  },
  {
   "cell_type": "code",
   "execution_count": 17,
   "id": "74cc5eb3",
   "metadata": {},
   "outputs": [
    {
     "name": "stdout",
     "output_type": "stream",
     "text": [
      "[5 6 7]\n"
     ]
    }
   ],
   "source": [
    "#Slice elements from index 4 to the end of the array:\n",
    "\n",
    "import numpy as np\n",
    "\n",
    "arr = np.array([1, 2, 3, 4, 5, 6, 7])\n",
    "\n",
    "print(arr[4:])"
   ]
  },
  {
   "cell_type": "code",
   "execution_count": 18,
   "id": "cd8095e7",
   "metadata": {},
   "outputs": [
    {
     "name": "stdout",
     "output_type": "stream",
     "text": [
      "[1 2 3 4]\n"
     ]
    }
   ],
   "source": [
    "#Slice elements from the beginning to index 4 (not included):\n",
    "\n",
    "import numpy as np\n",
    "\n",
    "arr = np.array([1, 2, 3, 4, 5, 6, 7])\n",
    "\n",
    "print(arr[:4])"
   ]
  },
  {
   "cell_type": "code",
   "execution_count": 19,
   "id": "8b3a5f9a",
   "metadata": {},
   "outputs": [
    {
     "name": "stdout",
     "output_type": "stream",
     "text": [
      "[5 6]\n"
     ]
    }
   ],
   "source": [
    "#Slice from the index 3 from the end to index 1 from the end:\n",
    "\n",
    "import numpy as np\n",
    "\n",
    "arr = np.array([1, 2, 3, 4, 5, 6, 7])\n",
    "\n",
    "print(arr[-3:-1])"
   ]
  },
  {
   "cell_type": "code",
   "execution_count": 20,
   "id": "bcf13092",
   "metadata": {},
   "outputs": [
    {
     "name": "stdout",
     "output_type": "stream",
     "text": [
      "[2 4]\n"
     ]
    }
   ],
   "source": [
    "#Return every other element from index 1 to index 5:\n",
    "\n",
    "import numpy as np\n",
    "\n",
    "arr = np.array([1, 2, 3, 4, 5, 6, 7])\n",
    "\n",
    "print(arr[1:5:2])"
   ]
  },
  {
   "cell_type": "code",
   "execution_count": 21,
   "id": "4b9c2f56",
   "metadata": {},
   "outputs": [
    {
     "name": "stdout",
     "output_type": "stream",
     "text": [
      "[1 3 5 7]\n"
     ]
    }
   ],
   "source": [
    "#Return every other element from the entire array:\n",
    "\n",
    "import numpy as np\n",
    "\n",
    "arr = np.array([1, 2, 3, 4, 5, 6, 7])\n",
    "\n",
    "print(arr[::2])"
   ]
  },
  {
   "cell_type": "code",
   "execution_count": 22,
   "id": "6289ea1b",
   "metadata": {},
   "outputs": [
    {
     "name": "stdout",
     "output_type": "stream",
     "text": [
      "[7 8 9]\n"
     ]
    }
   ],
   "source": [
    "#From the second element, slice elements from index 1 to index 4 (not included):\n",
    "\n",
    "import numpy as np\n",
    "\n",
    "arr = np.array([[1, 2, 3, 4, 5], [6, 7, 8, 9, 10]])\n",
    "\n",
    "print(arr[1, 1:4])\n"
   ]
  },
  {
   "cell_type": "code",
   "execution_count": 23,
   "id": "3248aac5",
   "metadata": {},
   "outputs": [
    {
     "name": "stdout",
     "output_type": "stream",
     "text": [
      "[3 8]\n"
     ]
    }
   ],
   "source": [
    "#From both elements, return index 2:\n",
    "\n",
    "import numpy as np\n",
    "\n",
    "arr = np.array([[1, 2, 3, 4, 5], [6, 7, 8, 9, 10]])\n",
    "\n",
    "print(arr[0:2, 2])"
   ]
  },
  {
   "cell_type": "code",
   "execution_count": 24,
   "id": "8ac26ef1",
   "metadata": {},
   "outputs": [
    {
     "name": "stdout",
     "output_type": "stream",
     "text": [
      "[[2 3 4]\n",
      " [7 8 9]]\n"
     ]
    }
   ],
   "source": [
    "#From both elements, slice index 1 to index 4 (not included), this will return a 2-D array:\n",
    "\n",
    "import numpy as np\n",
    "\n",
    "arr = np.array([[1, 2, 3, 4, 5], [6, 7, 8, 9, 10]])\n",
    "\n",
    "print(arr[0:2, 1:4])\n"
   ]
  },
  {
   "cell_type": "code",
   "execution_count": 25,
   "id": "ac1d9845",
   "metadata": {},
   "outputs": [
    {
     "name": "stdout",
     "output_type": "stream",
     "text": [
      "int32\n"
     ]
    }
   ],
   "source": [
    "import numpy as np\n",
    "\n",
    "arr = np.array([1, 2, 3, 4])\n",
    "\n",
    "print(arr.dtype)\n"
   ]
  },
  {
   "cell_type": "code",
   "execution_count": 26,
   "id": "06109a05",
   "metadata": {},
   "outputs": [
    {
     "name": "stdout",
     "output_type": "stream",
     "text": [
      "<U6\n"
     ]
    }
   ],
   "source": [
    "#Get the data type of an array containing strings:\n",
    "\n",
    "import numpy as np\n",
    "\n",
    "arr = np.array(['apple', 'banana', 'cherry'])\n",
    "\n",
    "print(arr.dtype)"
   ]
  },
  {
   "cell_type": "code",
   "execution_count": 27,
   "id": "028a2111",
   "metadata": {},
   "outputs": [
    {
     "name": "stdout",
     "output_type": "stream",
     "text": [
      "[1 2 3 4]\n",
      "int32\n"
     ]
    }
   ],
   "source": [
    "#Create an array with data type 4 bytes integer:\n",
    "\n",
    "import numpy as np\n",
    "\n",
    "arr = np.array([1, 2, 3, 4], dtype='i4')\n",
    "\n",
    "print(arr)\n",
    "print(arr.dtype)"
   ]
  },
  {
   "cell_type": "code",
   "execution_count": 28,
   "id": "4adf3d46",
   "metadata": {},
   "outputs": [
    {
     "name": "stdout",
     "output_type": "stream",
     "text": [
      "(2, 4)\n"
     ]
    }
   ],
   "source": [
    "#Print the shape of a 2-D array:\n",
    "\n",
    "import numpy as np\n",
    "\n",
    "arr = np.array([[1, 2, 3, 4], [5, 6, 7, 8]])\n",
    "\n",
    "print(arr.shape)"
   ]
  },
  {
   "cell_type": "code",
   "execution_count": 29,
   "id": "a52e7dfc",
   "metadata": {},
   "outputs": [
    {
     "name": "stdout",
     "output_type": "stream",
     "text": [
      "[[[[[1 2 3 4]]]]]\n",
      "shape of array : (1, 1, 1, 1, 4)\n"
     ]
    }
   ],
   "source": [
    "#Create an array with 5 dimensions using ndmin using a vector with values 1,2,3,4 and verify that last dimension has value 4:\n",
    "\n",
    "import numpy as np\n",
    "\n",
    "arr = np.array([1, 2, 3, 4], ndmin=5)\n",
    "\n",
    "print(arr)\n",
    "print('shape of array :', arr.shape)\n"
   ]
  },
  {
   "cell_type": "code",
   "execution_count": 30,
   "id": "c14877e9",
   "metadata": {},
   "outputs": [
    {
     "name": "stdout",
     "output_type": "stream",
     "text": [
      "[[ 1  2  3]\n",
      " [ 4  5  6]\n",
      " [ 7  8  9]\n",
      " [10 11 12]]\n"
     ]
    }
   ],
   "source": [
    "#Convert the following 1-D array with 12 elements into a 2-D array.\n",
    "\n",
    "#The outermost dimension will have 4 arrays, each with 3 elements:\n",
    "\n",
    "import numpy as np\n",
    "\n",
    "arr = np.array([1, 2, 3, 4, 5, 6, 7, 8, 9, 10, 11, 12])\n",
    "\n",
    "newarr = arr.reshape(4, 3)\n",
    "\n",
    "print(newarr)"
   ]
  },
  {
   "cell_type": "code",
   "execution_count": 31,
   "id": "3ef072eb",
   "metadata": {},
   "outputs": [
    {
     "name": "stdout",
     "output_type": "stream",
     "text": [
      "[[[ 1  2]\n",
      "  [ 3  4]\n",
      "  [ 5  6]]\n",
      "\n",
      " [[ 7  8]\n",
      "  [ 9 10]\n",
      "  [11 12]]]\n"
     ]
    }
   ],
   "source": [
    "#Convert the following 1-D array with 12 elements into a 3-D array.\n",
    "\n",
    "#The outermost dimension will have 2 arrays that contains 3 arrays, each with 2 elements:\n",
    "\n",
    "import numpy as np\n",
    "\n",
    "arr = np.array([1, 2, 3, 4, 5, 6, 7, 8, 9, 10, 11, 12])\n",
    "\n",
    "newarr = arr.reshape(2, 3, 2)\n",
    "\n",
    "print(newarr)\n"
   ]
  },
  {
   "cell_type": "markdown",
   "id": "f9a4aa65",
   "metadata": {},
   "source": [
    "# numpy of Darsan"
   ]
  },
  {
   "cell_type": "code",
   "execution_count": 32,
   "id": "1966644b",
   "metadata": {},
   "outputs": [
    {
     "name": "stdout",
     "output_type": "stream",
     "text": [
      "['shibu' 'shakshi' 'sonu' 'simran']\n",
      "<class 'numpy.ndarray'>\n"
     ]
    }
   ],
   "source": [
    "import numpy as np\n",
    "a=np.array(['shibu','shakshi','sonu','simran'])\n",
    "print(a)\n",
    "print(type(a))"
   ]
  },
  {
   "cell_type": "markdown",
   "id": "1dcde877",
   "metadata": {},
   "source": [
    "# arange(start,end,step)"
   ]
  },
  {
   "cell_type": "code",
   "execution_count": 33,
   "id": "17c515d8",
   "metadata": {},
   "outputs": [
    {
     "name": "stdout",
     "output_type": "stream",
     "text": [
      "[0 1 2 3 4 5 6 7 8 9]\n"
     ]
    }
   ],
   "source": [
    "import numpy as np\n",
    "b=np.arange(0,10,1)\n",
    "print(b)"
   ]
  },
  {
   "cell_type": "code",
   "execution_count": 34,
   "id": "bd9b6698",
   "metadata": {},
   "outputs": [
    {
     "name": "stdout",
     "output_type": "stream",
     "text": [
      "[0 2 4 6 8]\n"
     ]
    }
   ],
   "source": [
    "import numpy as np\n",
    "b=np.arange(0,10,2)\n",
    "print(b)"
   ]
  },
  {
   "cell_type": "code",
   "execution_count": 35,
   "id": "d2285bde",
   "metadata": {},
   "outputs": [
    {
     "name": "stdout",
     "output_type": "stream",
     "text": [
      "[0 3 6 9]\n"
     ]
    }
   ],
   "source": [
    "import numpy as np\n",
    "b=np.arange(0,10,3)\n",
    "print(b)"
   ]
  },
  {
   "cell_type": "code",
   "execution_count": 36,
   "id": "400bd146",
   "metadata": {},
   "outputs": [
    {
     "name": "stdout",
     "output_type": "stream",
     "text": [
      "[2 7]\n"
     ]
    }
   ],
   "source": [
    "import numpy as np\n",
    "b=np.arange(2,10,5)\n",
    "print(b)"
   ]
  },
  {
   "cell_type": "markdown",
   "id": "fc2696f8",
   "metadata": {},
   "source": [
    "# Zeros()"
   ]
  },
  {
   "cell_type": "code",
   "execution_count": 37,
   "id": "016a0d04",
   "metadata": {},
   "outputs": [
    {
     "name": "stdout",
     "output_type": "stream",
     "text": [
      "[0. 0. 0.]\n"
     ]
    }
   ],
   "source": [
    "import numpy as np\n",
    "a=np.zeros(3)\n",
    "print(a)"
   ]
  },
  {
   "cell_type": "code",
   "execution_count": 38,
   "id": "763bac28",
   "metadata": {},
   "outputs": [
    {
     "name": "stdout",
     "output_type": "stream",
     "text": [
      "[[0. 0. 0.]\n",
      " [0. 0. 0.]\n",
      " [0. 0. 0.]]\n"
     ]
    }
   ],
   "source": [
    "import numpy as np\n",
    "a1=np.zeros((3,3))\n",
    "print(a1)"
   ]
  },
  {
   "cell_type": "markdown",
   "id": "d0fc8fce",
   "metadata": {},
   "source": [
    "# eye()"
   ]
  },
  {
   "cell_type": "code",
   "execution_count": 39,
   "id": "31dae65c",
   "metadata": {},
   "outputs": [
    {
     "name": "stdout",
     "output_type": "stream",
     "text": [
      "[[1. 0. 0.]\n",
      " [0. 1. 0.]\n",
      " [0. 0. 1.]]\n"
     ]
    }
   ],
   "source": [
    "import numpy as np\n",
    "a=np.eye(3)\n",
    "print(a)"
   ]
  },
  {
   "cell_type": "code",
   "execution_count": 40,
   "id": "109b624f",
   "metadata": {},
   "outputs": [
    {
     "name": "stdout",
     "output_type": "stream",
     "text": [
      "[[1. 0. 0. 0. 0.]\n",
      " [0. 1. 0. 0. 0.]\n",
      " [0. 0. 1. 0. 0.]\n",
      " [0. 0. 0. 1. 0.]]\n"
     ]
    }
   ],
   "source": [
    "import numpy as np\n",
    "a=np.eye(4,5)\n",
    "print(a)"
   ]
  },
  {
   "cell_type": "markdown",
   "id": "ae2d31db",
   "metadata": {},
   "source": [
    "# linspace(start,stop,num)()"
   ]
  },
  {
   "cell_type": "code",
   "execution_count": 41,
   "id": "0d098d7b",
   "metadata": {},
   "outputs": [
    {
     "name": "stdout",
     "output_type": "stream",
     "text": [
      "[0.  0.1 0.2 0.3 0.4 0.5 0.6 0.7 0.8 0.9 1. ]\n"
     ]
    }
   ],
   "source": [
    "import numpy as np\n",
    "a=np.linspace(0,1,11)\n",
    "print(a)"
   ]
  },
  {
   "cell_type": "code",
   "execution_count": 42,
   "id": "8bf015d0",
   "metadata": {},
   "outputs": [
    {
     "name": "stdout",
     "output_type": "stream",
     "text": [
      "[0.  0.2 0.4 0.6 0.8 1.  1.2 1.4 1.6 1.8 2. ]\n"
     ]
    }
   ],
   "source": [
    "import numpy as np\n",
    "a=np.linspace(0,2,11)\n",
    "print(a)"
   ]
  },
  {
   "cell_type": "markdown",
   "id": "6022ea12",
   "metadata": {},
   "source": [
    "# rand()"
   ]
  },
  {
   "cell_type": "code",
   "execution_count": 43,
   "id": "5c6585b0",
   "metadata": {},
   "outputs": [
    {
     "name": "stdout",
     "output_type": "stream",
     "text": [
      "0.7981038601748572\n"
     ]
    }
   ],
   "source": [
    "import numpy as np\n",
    "r1=np.random.rand()\n",
    "print(r1)"
   ]
  },
  {
   "cell_type": "code",
   "execution_count": 44,
   "id": "9ff5d89e",
   "metadata": {},
   "outputs": [
    {
     "name": "stdout",
     "output_type": "stream",
     "text": [
      "[[0.2416343  0.81948322]\n",
      " [0.23461504 0.35802369]\n",
      " [0.17840016 0.16214508]]\n"
     ]
    }
   ],
   "source": [
    "import numpy as np\n",
    "r1=np.random.rand(3,2)# no tuple\n",
    "print(r1)"
   ]
  },
  {
   "cell_type": "markdown",
   "id": "538a0609",
   "metadata": {},
   "source": [
    "# randint(low,high,num)()"
   ]
  },
  {
   "cell_type": "code",
   "execution_count": 45,
   "id": "fd50d0b6",
   "metadata": {},
   "outputs": [
    {
     "name": "stdout",
     "output_type": "stream",
     "text": [
      "[44 43 54 25 29 50 82 38 19  3]\n"
     ]
    }
   ],
   "source": [
    "import numpy as np\n",
    "r2=np.random.randint(1,100,10)\n",
    "print(r2)\n"
   ]
  },
  {
   "cell_type": "markdown",
   "id": "068ef7a7",
   "metadata": {},
   "source": [
    "# Aggregations:-"
   ]
  },
  {
   "cell_type": "markdown",
   "id": "c54e38f3",
   "metadata": {},
   "source": [
    "# min()"
   ]
  },
  {
   "cell_type": "code",
   "execution_count": 46,
   "id": "e1cc01e3",
   "metadata": {},
   "outputs": [
    {
     "name": "stdout",
     "output_type": "stream",
     "text": [
      "min way1 =  1\n"
     ]
    }
   ],
   "source": [
    "import numpy as np\n",
    "l=[1,5,3,8,2,3,6,7,5,2,9,11,2,5,3,4,8,9,3,1,9,3]\n",
    "a=np.array(l)\n",
    "print('min way1 = ',a.min())"
   ]
  },
  {
   "cell_type": "markdown",
   "id": "d715d67f",
   "metadata": {},
   "source": [
    "# max()"
   ]
  },
  {
   "cell_type": "code",
   "execution_count": 47,
   "id": "d4f2664b",
   "metadata": {},
   "outputs": [
    {
     "name": "stdout",
     "output_type": "stream",
     "text": [
      "max way1 =  11\n"
     ]
    }
   ],
   "source": [
    "import numpy as np\n",
    "l=[1,5,3,8,2,3,6,7,5,2,9,11,2,5,3,4,8,9,3,1,9,3]\n",
    "a=np.array(l)\n",
    "print('max way1 = ',a.max())"
   ]
  },
  {
   "cell_type": "code",
   "execution_count": 48,
   "id": "0567d0fc",
   "metadata": {},
   "outputs": [
    {
     "name": "stdout",
     "output_type": "stream",
     "text": [
      "min =  1\n",
      "Argmin =  0\n",
      "max =  11\n",
      "ArgMax =  11\n",
      "sum =  109\n",
      "Mean =  4.954545454545454\n",
      "Std =  2.9151215899679936\n"
     ]
    }
   ],
   "source": [
    "import numpy as np\n",
    "l=[1,5,3,8,2,3,6,7,5,2,9,11,2,5,3,4,8,9,3,1,9,3]\n",
    "a=np.array(l)\n",
    "print('min = ',a.min())\n",
    "print('Argmin = ',a.argmin())\n",
    "print('max = ',a.max())\n",
    "print('ArgMax = ',a.argmax())\n",
    "print('sum = ',a.sum())\n",
    "print('Mean = ',a.mean())\n",
    "print('Std = ',a.std())"
   ]
  },
  {
   "cell_type": "code",
   "execution_count": 49,
   "id": "685d26cb",
   "metadata": {},
   "outputs": [
    {
     "name": "stdout",
     "output_type": "stream",
     "text": [
      "min =  1\n",
      "Argmin =  3\n",
      "max =  11\n",
      "ArgMax =  8\n",
      "sum =  122\n",
      "Mean =  5.304347826086956\n",
      "Std =  3.042235771223635\n"
     ]
    }
   ],
   "source": [
    "import numpy as np\n",
    "l=[7,5,3,1,8,2,3,6,11,5,2,9,10,2,5,3,7,8,9,3,1,9,3]\n",
    "a=np.array(l)\n",
    "print('min = ',a.min())\n",
    "print('Argmin = ',a.argmin())\n",
    "print('max = ',a.max())\n",
    "print('ArgMax = ',a.argmax())\n",
    "print('sum = ',a.sum())\n",
    "print('Mean = ',a.mean())\n",
    "print('Std = ',a.std())"
   ]
  },
  {
   "cell_type": "markdown",
   "id": "956e4361",
   "metadata": {},
   "source": [
    "# Slicing ndarray"
   ]
  },
  {
   "cell_type": "code",
   "execution_count": 50,
   "id": "2c32e9a0",
   "metadata": {},
   "outputs": [
    {
     "name": "stdout",
     "output_type": "stream",
     "text": [
      "['b' 'c' 'd']\n",
      "['a' 'b' 'c' 'd' 'e']\n",
      "['f' 'g' 'h']\n",
      "['c' 'e' 'g']\n",
      "['h' 'g' 'f' 'e' 'd' 'c' 'b' 'a']\n"
     ]
    }
   ],
   "source": [
    "import numpy as np\n",
    "arr=np.array(['a','b','c','d','e','f','g','h'])\n",
    "print(arr[1:4])\n",
    "print(arr[:5])\n",
    "print(arr[5:])\n",
    "print(arr[2:7:2])\n",
    "print(arr[::-1])"
   ]
  },
  {
   "cell_type": "code",
   "execution_count": 51,
   "id": "3833f8a3",
   "metadata": {},
   "outputs": [
    {
     "name": "stdout",
     "output_type": "stream",
     "text": [
      "14\n",
      "14\n",
      "[11 12 13 14 15]\n",
      "[[ 1  2  3  4  5]\n",
      " [ 6  7  8  9 10]]\n",
      "[[1 2 3 4 5]]\n",
      "[[21 22 23 24 25]\n",
      " [16 17 18 19 20]\n",
      " [11 12 13 14 15]\n",
      " [ 6  7  8  9 10]\n",
      " [ 1  2  3  4  5]]\n",
      "[[ 7  8]\n",
      " [12 13]]\n",
      "[[16 17 18]\n",
      " [21 22 23]]\n",
      "[[ 5  4  3  2  1]\n",
      " [10  9  8  7  6]\n",
      " [15 14 13 12 11]\n",
      " [20 19 18 17 16]\n",
      " [25 24 23 22 21]]\n"
     ]
    }
   ],
   "source": [
    "import numpy as np\n",
    "arr=np.array([[1,2,3,4,5],[6,7,8,9,10],[11,12,13,14,15],[16,17,18,19,20],[21,22,23,24,25]])\n",
    "print(arr[2][3])\n",
    "print(arr[2,3])\n",
    "print(arr[2])\n",
    "print(arr[0:2])\n",
    "print(arr[0:2:2])\n",
    "print(arr[::-1])\n",
    "print(arr[1:3,1:3])\n",
    "print(arr[3:,:3])\n",
    "print(arr[:,::-1])"
   ]
  },
  {
   "cell_type": "code",
   "execution_count": 52,
   "id": "6733d618",
   "metadata": {},
   "outputs": [
    {
     "name": "stdout",
     "output_type": "stream",
     "text": [
      "[['a' 'b']\n",
      " ['d' 'e']]\n",
      "[['c' 'b' 'a']\n",
      " ['f' 'e' 'd']\n",
      " ['i' 'h' 'g']]\n",
      "[['i' 'h' 'g']\n",
      " ['f' 'e' 'd']\n",
      " ['c' 'b' 'a']]\n"
     ]
    }
   ],
   "source": [
    "import numpy as np\n",
    "arr=np.array([['a','b','c'],['d','e','f'],['g','h','i']])\n",
    "print(arr[0:2,0:2])\n",
    "print(arr[:,::-1])\n",
    "print(arr[::-1,::-1])\n"
   ]
  },
  {
   "cell_type": "markdown",
   "id": "d4a204f6",
   "metadata": {},
   "source": [
    "# DataFrame"
   ]
  },
  {
   "cell_type": "code",
   "execution_count": 53,
   "id": "dc2a8b36",
   "metadata": {},
   "outputs": [
    {
     "name": "stdout",
     "output_type": "stream",
     "text": [
      "      name  Marks\n",
      "0    Shibu     44\n",
      "1  simaran     55\n",
      "2    sonam     66\n"
     ]
    }
   ],
   "source": [
    "import pandas as pd\n",
    "df=pd.DataFrame({'name':['Shibu','simaran','sonam'],'Marks':[44,55,66]})\n",
    "print(df)"
   ]
  },
  {
   "cell_type": "markdown",
   "id": "df23d11a",
   "metadata": {},
   "source": [
    "# Numpy"
   ]
  },
  {
   "cell_type": "code",
   "execution_count": 54,
   "id": "ba2111ec",
   "metadata": {},
   "outputs": [
    {
     "name": "stdout",
     "output_type": "stream",
     "text": [
      "[0 2 4 6 8]\n"
     ]
    }
   ],
   "source": [
    "import numpy as np\n",
    "b=np.arange(0,10,2)\n",
    "print(b)"
   ]
  },
  {
   "cell_type": "code",
   "execution_count": 55,
   "id": "c34859e8",
   "metadata": {},
   "outputs": [
    {
     "name": "stdout",
     "output_type": "stream",
     "text": [
      "[0. 0.]\n"
     ]
    }
   ],
   "source": [
    "import numpy as np\n",
    "b=np.zeros(2)\n",
    "print(b)"
   ]
  },
  {
   "cell_type": "code",
   "execution_count": 56,
   "id": "abaaef2d",
   "metadata": {},
   "outputs": [
    {
     "name": "stdout",
     "output_type": "stream",
     "text": [
      "[[0.]\n",
      " [0.]\n",
      " [0.]]\n"
     ]
    }
   ],
   "source": [
    "import numpy as np\n",
    "b=np.zeros((3,1))\n",
    "print(b)"
   ]
  },
  {
   "cell_type": "code",
   "execution_count": 57,
   "id": "d7dc4e8b",
   "metadata": {},
   "outputs": [
    {
     "name": "stdout",
     "output_type": "stream",
     "text": [
      "[[1. 0. 0. 0. 0. 0. 0. 0. 0. 0.]\n",
      " [0. 1. 0. 0. 0. 0. 0. 0. 0. 0.]\n",
      " [0. 0. 1. 0. 0. 0. 0. 0. 0. 0.]\n",
      " [0. 0. 0. 1. 0. 0. 0. 0. 0. 0.]\n",
      " [0. 0. 0. 0. 1. 0. 0. 0. 0. 0.]\n",
      " [0. 0. 0. 0. 0. 1. 0. 0. 0. 0.]\n",
      " [0. 0. 0. 0. 0. 0. 1. 0. 0. 0.]\n",
      " [0. 0. 0. 0. 0. 0. 0. 1. 0. 0.]\n",
      " [0. 0. 0. 0. 0. 0. 0. 0. 1. 0.]\n",
      " [0. 0. 0. 0. 0. 0. 0. 0. 0. 1.]]\n"
     ]
    }
   ],
   "source": [
    "import numpy as np\n",
    "b=np.eye(10,10)\n",
    "print(b)"
   ]
  },
  {
   "cell_type": "code",
   "execution_count": 58,
   "id": "3bd2d855",
   "metadata": {},
   "outputs": [
    {
     "name": "stdout",
     "output_type": "stream",
     "text": [
      "[1.  1.5 2.  2.5 3.  3.5 4. ]\n"
     ]
    }
   ],
   "source": [
    "import numpy as np\n",
    "b=np.linspace(1,4,7)\n",
    "print(b)"
   ]
  },
  {
   "cell_type": "code",
   "execution_count": 59,
   "id": "1da66786",
   "metadata": {},
   "outputs": [
    {
     "name": "stdout",
     "output_type": "stream",
     "text": [
      "(3, 3)\n"
     ]
    }
   ],
   "source": [
    "import numpy as np\n",
    "b=np.zeros((3,3))\n",
    "print(b.shape)"
   ]
  },
  {
   "cell_type": "code",
   "execution_count": 60,
   "id": "b6f28879",
   "metadata": {},
   "outputs": [
    {
     "name": "stdout",
     "output_type": "stream",
     "text": [
      "[[60 66]\n",
      " [57 47]\n",
      " [43  7]\n",
      " [ 5 70]\n",
      " [39 91]]\n"
     ]
    }
   ],
   "source": [
    "import numpy as np\n",
    "res=np.random.randint(1,100,10)\n",
    "res2=res.reshape(5,2)\n",
    "print(res2)"
   ]
  },
  {
   "cell_type": "code",
   "execution_count": 61,
   "id": "cdaa2ff2",
   "metadata": {},
   "outputs": [
    {
     "name": "stdout",
     "output_type": "stream",
     "text": [
      "0.1529949377396358\n"
     ]
    }
   ],
   "source": [
    "import numpy as np\n",
    "res=np.random.rand()\n",
    "print(res)"
   ]
  },
  {
   "cell_type": "code",
   "execution_count": 62,
   "id": "33aaeb34",
   "metadata": {},
   "outputs": [
    {
     "name": "stdout",
     "output_type": "stream",
     "text": [
      "[87 73  2 88 78 86 87  3 88 76]\n"
     ]
    }
   ],
   "source": [
    "import numpy as np\n",
    "res=np.random.randint(1,100,10)\n",
    "print(res)"
   ]
  },
  {
   "cell_type": "code",
   "execution_count": 63,
   "id": "1ca0c942",
   "metadata": {},
   "outputs": [
    {
     "name": "stdout",
     "output_type": "stream",
     "text": [
      "-1.1355561111684325\n"
     ]
    }
   ],
   "source": [
    "import numpy as np\n",
    "res=np.random.randn()\n",
    "print(res)"
   ]
  },
  {
   "cell_type": "code",
   "execution_count": 64,
   "id": "1798a825",
   "metadata": {},
   "outputs": [
    {
     "name": "stdout",
     "output_type": "stream",
     "text": [
      "[[0.68191508 0.90192088 0.76608051]\n",
      " [0.77157066 0.39472566 0.99167814]\n",
      " [0.27957305 0.08545757 0.73128557]]\n"
     ]
    }
   ],
   "source": [
    "import numpy as np\n",
    "res=np.random.rand(3,3)\n",
    "print(res)"
   ]
  },
  {
   "cell_type": "code",
   "execution_count": 65,
   "id": "ffa3f84c",
   "metadata": {},
   "outputs": [
    {
     "name": "stdout",
     "output_type": "stream",
     "text": [
      "0\n"
     ]
    }
   ],
   "source": [
    "import numpy as np\n",
    "l=[4,5,6,78,2,7,0]\n",
    "b=np.array(l)\n",
    "#print('Min Way1= ',b.min())\n",
    "print(b.min())"
   ]
  },
  {
   "cell_type": "code",
   "execution_count": 66,
   "id": "adb79b93",
   "metadata": {},
   "outputs": [
    {
     "name": "stdout",
     "output_type": "stream",
     "text": [
      "78\n"
     ]
    }
   ],
   "source": [
    "l=[4,5,6,78,2,7,0]\n",
    "b=np.array(l)\n",
    "#print('Min Way1= ',b.min())\n",
    "print(b.max())"
   ]
  },
  {
   "cell_type": "code",
   "execution_count": 67,
   "id": "34db7990",
   "metadata": {},
   "outputs": [
    {
     "name": "stdout",
     "output_type": "stream",
     "text": [
      "min =  0\n",
      "ArgMin =  14\n",
      "max =  89\n",
      "ArgMax=  10\n",
      "sum =  396\n",
      "mean =  20.842105263157894\n",
      "std =  30.67874827250726\n"
     ]
    }
   ],
   "source": [
    "import numpy as np\n",
    "l=[3,4,5,6,7,11,1,1,1,67,89,67,67,67,0,0,0,0,0,]\n",
    "b=np.array(l)\n",
    "print('min = ',b.min())\n",
    "print('ArgMin = ',b.argmin())\n",
    "print('max = ',b.max())\n",
    "print('ArgMax= ',b.argmax())\n",
    "print('sum = ',b.sum())\n",
    "print('mean = ',b.mean())\n",
    "print('std = ',b.std())"
   ]
  },
  {
   "cell_type": "code",
   "execution_count": 68,
   "id": "0c086222",
   "metadata": {},
   "outputs": [
    {
     "name": "stdout",
     "output_type": "stream",
     "text": [
      "sum=  43\n"
     ]
    }
   ],
   "source": [
    "import numpy as np\n",
    "array2d=np.array([[2,3,4],[4,6,7],[1,9,7]])\n",
    "print('sum= ',array2d.sum())"
   ]
  },
  {
   "cell_type": "code",
   "execution_count": 69,
   "id": "7901aca3",
   "metadata": {},
   "outputs": [
    {
     "name": "stdout",
     "output_type": "stream",
     "text": [
      "sum (col) =  [ 7 18 18]\n",
      "sum (row) =  [ 9 17 17]\n"
     ]
    }
   ],
   "source": [
    "import numpy as np\n",
    "array2d=np.array([[2,3,4],[4,6,7],[1,9,7]])\n",
    "print('sum (col) = ',array2d.sum(axis=0))#v\n",
    "print('sum (row) = ',array2d.sum(axis=1))#h"
   ]
  },
  {
   "cell_type": "code",
   "execution_count": 70,
   "id": "2b9d70f7",
   "metadata": {},
   "outputs": [
    {
     "name": "stdout",
     "output_type": "stream",
     "text": [
      "['a' 'b' 'c' 'd' 'e' 'f' 'g' 'h' 'i' 'j']\n",
      "['a' 'b' 'c' 'd' 'e' 'f' 'g' 'h' 'i' 'j' 'k']\n",
      "['a' 'b' 'c' 'd' 'e']\n",
      "['b' 'c' 'd' 'e' 'f' 'g' 'h' 'i' 'j']\n",
      "['c' 'd' 'e' 'f' 'g' 'h' 'i' 'j' 'k']\n",
      "['c' 'e' 'g']\n",
      "['k' 'j' 'i' 'h' 'g' 'f' 'e' 'd' 'c' 'b' 'a']\n"
     ]
    }
   ],
   "source": [
    "import numpy as np\n",
    "arr=np.array(['a','b','c','d','e','f','g','h','i','j','k'])\n",
    "print(arr[0:10])\n",
    "print(arr[:11])\n",
    "print(arr[0:5])\n",
    "print(arr[1:10])\n",
    "print(arr[2:])\n",
    "print(arr[2:7:2])\n",
    "print(arr[::-1])"
   ]
  },
  {
   "cell_type": "code",
   "execution_count": 71,
   "id": "54c0dee0",
   "metadata": {},
   "outputs": [
    {
     "name": "stdout",
     "output_type": "stream",
     "text": [
      "14\n",
      "13\n",
      "[11 12 13 14 15]\n",
      "[[ 1  2  3  4  5]\n",
      " [ 6  7  8  9 10]]\n",
      "[[1 2 3 4 5]]\n",
      "[[21 22 23 24 25]\n",
      " [16 17 18 19 20]\n",
      " [11 12 13 14 15]\n",
      " [ 6  7  8  9 10]\n",
      " [ 1  2  3  4  5]]\n",
      "[[ 7  8]\n",
      " [12 13]]\n",
      "[[16 17 18]\n",
      " [21 22 23]]\n",
      "[[ 5  4  3  2  1]\n",
      " [10  9  8  7  6]\n",
      " [15 14 13 12 11]\n",
      " [20 19 18 17 16]\n",
      " [25 24 23 22 21]]\n"
     ]
    }
   ],
   "source": [
    "import numpy as np\n",
    "arr=np.array([[1,2,3,4,5],[6,7,8,9,10],[11,12,13,14,15],[16,17,18,19,20],[21,22,23,24,25]])\n",
    "print(arr[2][3])\n",
    "print(arr[2,2])\n",
    "print(arr[2])\n",
    "print(arr[0:2])\n",
    "print(arr[0:2:2])\n",
    "print(arr[::-1])\n",
    "print(arr[1:3,1:3])\n",
    "print(arr[3:,:3])\n",
    "print(arr[:,::-1])"
   ]
  },
  {
   "cell_type": "code",
   "execution_count": 72,
   "id": "8701799f",
   "metadata": {},
   "outputs": [
    {
     "name": "stdout",
     "output_type": "stream",
     "text": [
      "     PDS  Algo  SE  INS\n",
      "101    7    63  33   33\n",
      "102   25    59   4   68\n",
      "103   92    65  49   92\n",
      "104   80    81  79   72\n",
      "105   34    54  70   52\n"
     ]
    }
   ],
   "source": [
    "import numpy as np\n",
    "import pandas as pd\n",
    "randArr=np.random.randint(0,100,20).reshape(5,4)\n",
    "df=pd.DataFrame(randArr,np.arange(101,106,1),['PDS','Algo','SE','INS'])\n",
    "print(df)"
   ]
  },
  {
   "cell_type": "code",
   "execution_count": 73,
   "id": "85ccd4f1",
   "metadata": {},
   "outputs": [
    {
     "name": "stdout",
     "output_type": "stream",
     "text": [
      "101    21\n",
      "102    78\n",
      "103    87\n",
      "104    16\n",
      "105    43\n",
      "Name: Algo, dtype: int32\n"
     ]
    }
   ],
   "source": [
    "import numpy as np\n",
    "import pandas as pd\n",
    "randArr=np.random.randint(0,100,20).reshape(5,4)\n",
    "df=pd.DataFrame(randArr,np.arange(101,106,1),['PDS','Algo','SE','INS'])\n",
    "print(df['Algo'])"
   ]
  },
  {
   "cell_type": "code",
   "execution_count": 74,
   "id": "e70de6dc",
   "metadata": {},
   "outputs": [
    {
     "name": "stdout",
     "output_type": "stream",
     "text": [
      "PDS     58\n",
      "Algo    55\n",
      "SE      12\n",
      "INS     53\n",
      "Name: 101, dtype: int32\n"
     ]
    }
   ],
   "source": [
    "import numpy as np\n",
    "import pandas as pd\n",
    "randArr=np.random.randint(0,100,20).reshape(5,4)\n",
    "df=pd.DataFrame(randArr,np.arange(101,106,1),['PDS','Algo','SE','INS'])\n",
    "print(df.loc[101])\n",
    "#print(df.loc[101],'PDS')\n"
   ]
  },
  {
   "cell_type": "code",
   "execution_count": 75,
   "id": "4a044429",
   "metadata": {},
   "outputs": [
    {
     "name": "stdout",
     "output_type": "stream",
     "text": [
      "       PDS   Algo     SE    INS\n",
      "101   True   True  False   True\n",
      "102   True  False  False  False\n",
      "103  False  False   True   True\n",
      "104   True  False  False   True\n",
      "105  False  False  False   True\n"
     ]
    }
   ],
   "source": [
    "import numpy as np\n",
    "import pandas as pd\n",
    "randArr=np.random.randint(0,100,20).reshape(5,4)\n",
    "df=pd.DataFrame(randArr,np.arange(101,106,1),['PDS','Algo','SE','INS'])\n",
    "print(df>50)"
   ]
  }
 ],
 "metadata": {
  "kernelspec": {
   "display_name": "Python 3",
   "language": "python",
   "name": "python3"
  },
  "language_info": {
   "codemirror_mode": {
    "name": "ipython",
    "version": 3
   },
   "file_extension": ".py",
   "mimetype": "text/x-python",
   "name": "python",
   "nbconvert_exporter": "python",
   "pygments_lexer": "ipython3",
   "version": "3.8.8"
  }
 },
 "nbformat": 4,
 "nbformat_minor": 5
}
